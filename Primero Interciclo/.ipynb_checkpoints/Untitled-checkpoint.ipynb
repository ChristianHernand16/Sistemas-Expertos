{
 "cells": [
  {
   "cell_type": "code",
   "execution_count": null,
   "metadata": {},
   "outputs": [],
   "source": [
    "#Validacion Triangulo\n",
    "(defrule inicial\n",
    "(initial-fact)\n",
    "=>\n",
    "(printout t \"Menu\" crlf)\n",
    "\n",
    "(printout t \" 1- Triangulos x angulos\" crlf)\n",
    "(printout t \" 2- Triangulos x lados\" crlf)\n",
    "(assert (opcion (read)))\n",
    ")\n",
    "(defrule lados\n",
    "(opcion 1)\n",
    "=>\n",
    "(printout t \" OPCION \" crlf)\n",
    "(printout t \" 1- Angulo de noventa grados\" crlf)\n",
    "(printout t \" 2- Angulo menor a noventa grados\" crlf)\n",
    "(printout t \" 3- Angulo mayor a noventa grados\" crlf)\n",
    "(assert (trianguloangulo (read)))\n",
    ")\n",
    "(defrule igualnoventa  (trianguloangulo 1) =>(printout t \"T. rectangulo\" crlf))\n",
    "(defrule menornoventa  (trianguloangulo 2) =>(printout t \"T. acutangulo\" crlf))\n",
    "(defrule mayornoventa  (trianguloangulo 3) =>(printout t \"T. obtusangulo\" crlf))\n",
    "(opcion 2)\n",
    "(defrule angulos\n",
    "=>\n",
    "(printout t \" OPCION \" crlf)\n",
    "(printout t \" 1- Triangulo tres lados iguales\" crlf)\n",
    "(printout t \" 2- Triangulo dos lados iguales\" crlf)\n",
    "(printout t \" 3- Triangulo No tiene lados iguales\" crlf)\n",
    "(assert (triangulolados (read)))\n",
    ")\n",
    "(defrule tres-lados (triangulolados 1) => (printout t \"T. equilatero\" crlf))\n",
    "(defrule dos-lados (triangulolados 2) => (printout t \"T. isosceles\" crlf))\n",
    "(defrule ningun-lado (triangulolados 3) => (printout t \"T. escaleno\" crlf))\n"
   ]
  },
  {
   "cell_type": "code",
   "execution_count": null,
   "metadata": {},
   "outputs": [],
   "source": [
    "#Comprobacion\n",
    "         CLIPS (6.31 6/12/19)\n",
    "CLIPS> (load \"C:/Users/chris/Desktop/UNIVERSIDAD/Sistemas Expertos/Git/Sistemas-Expertos/triangulo.CLP\")\n",
    "Defining defrule: inicial +j+j\n",
    "Defining defrule: lados +j+j\n",
    "Defining defrule: igualnoventa +j+j\n",
    "Defining defrule: menornoventa +j+j\n",
    "Defining defrule: mayornoventa +j+j\n",
    "\n",
    "[CSTRCPSR1] Expected the beginning of a construct.\n",
    "Defining defrule: angulos +j+j\n",
    "Defining defrule: tres-lados +j+j\n",
    "Defining defrule: dos-lados +j+j\n",
    "Defining defrule: ningun-lado +j+j\n",
    "FALSE\n",
    "CLIPS> (reset)\n",
    "CLIPS> (run)\n",
    "Menu\n",
    " 1- Triangulos x angulos\n",
    " 2- Triangulos x lados\n",
    "2\n",
    " OPCION \n",
    " 1- Triangulo tres lados iguales\n",
    " 2- Triangulo dos lados iguales\n",
    " 3- Triangulo No tiene lados iguales\n",
    "3\n",
    "T. escaleno\n",
    "CLIPS> "
   ]
  }
 ],
 "metadata": {
  "kernelspec": {
   "display_name": "Python 3",
   "language": "python",
   "name": "python3"
  },
  "language_info": {
   "codemirror_mode": {
    "name": "ipython",
    "version": 3
   },
   "file_extension": ".py",
   "mimetype": "text/x-python",
   "name": "python",
   "nbconvert_exporter": "python",
   "pygments_lexer": "ipython3",
   "version": "3.7.6"
  }
 },
 "nbformat": 4,
 "nbformat_minor": 4
}
