{
 "cells": [
  {
   "cell_type": "code",
   "execution_count": null,
   "metadata": {},
   "outputs": [],
   "source": [
    "(deffacts reglas(H)(K))\n",
    "(defrule validacion-A (A) => (assert (E)) (printout t \"activado E\" crlf))\n",
    "(defrule validacion-B (B) => (assert (D)) (printout t \"activado D\" crlf))\n",
    "(defrule validacion-H (H) => (assert (A)) (printout t \"activado A\" crlf))\n",
    "(defrule validacion-EG (E)(G) => (assert (C)) (printout t \"activado C\" crlf))\n",
    "(defrule validacion-EK (E)(K) => (assert (B)) (printout t \"activado B\" crlf))\n",
    "(defrule validacion-DEK (D)(E)(K) => (assert (C)) (printout t \"activado C\" crlf))\n",
    "(defrule validacion-GKF (G)(K)(F) => (assert (A)) (printout t \"activado A\" crlf) )"
   ]
  },
  {
   "cell_type": "code",
   "execution_count": null,
   "metadata": {},
   "outputs": [],
   "source": [
    "CLIPS> (load \"C:/Users/chris/Desktop/UNIVERSIDAD/Sistemas Expertos/validarletra.CLP\")\n",
    "Defining deffacts: reglas\n",
    "Defining defrule: validacion-A +j+j\n",
    "Defining defrule: validacion-B +j+j\n",
    "Defining defrule: validacion-H +j+j\n",
    "Defining defrule: validacion-EG +j+j+j\n",
    "Defining defrule: validacion-EK =j+j+j\n",
    "Defining defrule: validacion-DEK +j+j+j+j\n",
    "Defining defrule: validacion-GKF +j+j+j+j\n",
    "TRUE\n",
    "CLIPS> (reset)\n",
    "CLIPS> (run)\n",
    "activado A\n",
    "activado E\n",
    "activado B\n",
    "activado D\n",
    "activado C\n",
    "CLIPS> "
   ]
  }
 ],
 "metadata": {
  "kernelspec": {
   "display_name": "Python 3",
   "language": "python",
   "name": "python3"
  },
  "language_info": {
   "codemirror_mode": {
    "name": "ipython",
    "version": 3
   },
   "file_extension": ".py",
   "mimetype": "text/x-python",
   "name": "python",
   "nbconvert_exporter": "python",
   "pygments_lexer": "ipython3",
   "version": "3.7.6"
  }
 },
 "nbformat": 4,
 "nbformat_minor": 4
}
