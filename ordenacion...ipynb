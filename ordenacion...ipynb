{
 "cells": [
  {
   "cell_type": "code",
   "execution_count": null,
   "metadata": {},
   "outputs": [],
   "source": [
    "(defrule ini\n",
    "(vector $?x)\n",
    "=>\n",
    "(assert (vector-aux ?x)))\n",
    "(defrule ordenar\n",
    "?f <- (vector-aux $?b ?q1 ?w2&:(< ?w2 ?q1) $?e)\n",
    "=>\n",
    "(retract ?f)\n",
    "(assert (vector-aux $?b ?w2 ?q1 $?e)))\n",
    "(defrule fin\n",
    "(not (vector-aux $?b ?q1 ?w2&:(< ?w2 ?q1) $?e))\n",
    "(vector $?x)\n",
    "(vector-aux $?y)\n",
    "=>\n",
    "(printout t \"La ordenacion de \" ?x \" es \" ?y crlf))"
   ]
  },
  {
   "cell_type": "code",
   "execution_count": null,
   "metadata": {},
   "outputs": [],
   "source": [
    "CLIPS> (load \"C:/Users/chris/Desktop/UNIVERSIDAD/Sistemas Expertos/ordenacion.CLP\")\n",
    "Defining defrule: ini +j+j\n",
    "Defining defrule: ordenar +j+j\n",
    "Defining defrule: fin +j+j+j+j\n",
    "TRUE\n",
    "CLIPS> (watch facts)\n",
    "CLIPS> (watch rules)\n",
    "CLIPS> (reset)\n",
    "<== f-0     (initial-fact)\n",
    "==> f-0     (initial-fact)\n",
    "CLIPS> (assert (vector 3 2 1 4 7 8 5 6))\n",
    "==> f-1     (vector 3 2 1 4 7 8 5 6)\n",
    "<Fact-1>\n",
    "CLIPS> (run)\n",
    "FIRE    1 ini: f-1\n",
    "==> f-2     (vector-aux 3 2 1 4 7 8 5 6)\n",
    "FIRE    2 ordenar: f-2\n",
    "<== f-2     (vector-aux 3 2 1 4 7 8 5 6)\n",
    "==> f-3     (vector-aux 2 3 1 4 7 8 5 6)\n",
    "FIRE    3 ordenar: f-3\n",
    "<== f-3     (vector-aux 2 3 1 4 7 8 5 6)\n",
    "==> f-4     (vector-aux 2 1 3 4 7 8 5 6)\n",
    "FIRE    4 ordenar: f-4\n",
    "<== f-4     (vector-aux 2 1 3 4 7 8 5 6)\n",
    "==> f-5     (vector-aux 1 2 3 4 7 8 5 6)\n",
    "FIRE    5 ordenar: f-5\n",
    "<== f-5     (vector-aux 1 2 3 4 7 8 5 6)\n",
    "==> f-6     (vector-aux 1 2 3 4 7 5 8 6)\n",
    "FIRE    6 ordenar: f-6\n",
    "<== f-6     (vector-aux 1 2 3 4 7 5 8 6)\n",
    "==> f-7     (vector-aux 1 2 3 4 5 7 8 6)\n",
    "FIRE    7 ordenar: f-7\n",
    "<== f-7     (vector-aux 1 2 3 4 5 7 8 6)\n",
    "==> f-8     (vector-aux 1 2 3 4 5 7 6 8)\n",
    "FIRE    8 ordenar: f-8\n",
    "<== f-8     (vector-aux 1 2 3 4 5 7 6 8)\n",
    "==> f-9     (vector-aux 1 2 3 4 5 6 7 8)\n",
    "FIRE    9 fin: *,f-1,f-9\n",
    "La ordenacion de (3 2 1 4 7 8 5 6) es (1 2 3 4 5 6 7 8)"
   ]
  }
 ],
 "metadata": {
  "kernelspec": {
   "display_name": "Python 3",
   "language": "python",
   "name": "python3"
  },
  "language_info": {
   "codemirror_mode": {
    "name": "ipython",
    "version": 3
   },
   "file_extension": ".py",
   "mimetype": "text/x-python",
   "name": "python",
   "nbconvert_exporter": "python",
   "pygments_lexer": "ipython3",
   "version": "3.7.6"
  }
 },
 "nbformat": 4,
 "nbformat_minor": 4
}
